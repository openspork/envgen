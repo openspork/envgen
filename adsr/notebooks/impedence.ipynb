{
 "cells": [
  {
   "cell_type": "markdown",
   "metadata": {},
   "source": [
    "# Measuring Impedence\n",
    "*Jun 29, 2024, Felix*\n",
    "\n",
    "My plan is to build a pre-amp circuit to provide a better signal for (a) trigger detection, (b) input into VCA for volume boost.\n",
    "\n",
    "But first... I'm curious to try and measure the output impedence of a borrowed guitar (B.C. Rich Mockingbird). \n",
    "\n",
    "To measure impedence, I plan to use a voltage divider method.\n",
    "\n",
    "Based on some preliminary research:\n",
    "\n",
    "* Guitars with passive pickups typically have 10k-20k ohm impedence. \n",
    "* For voltage divider, best to choose a resistor value close to the target impedence, e.g. 10-20k.\n",
    "\n",
    "## Measuring impedence with a voltage divider method\n",
    "I'll connect the circuit with a resistor inline:\n",
    "\n",
    "Guitar --> A ---> $R_{ref}$ --> B --> Guitar Amp\n",
    "I want to measure the impedence $Z_{guitar}$ defined by this formula:\n",
    "\n",
    "$$ Z_{guitar} = R_{ref} \\times \\frac{V_B}{V_A - V_B} $$\n",
    "\n",
    "## Results\n",
    "I used the RMS function of my scope to compare voltages at A and B and after some trial and error ended up using a 100kΩ resistor and measuring an impedence of 200kΩ (!). I don't know why it is so high."
   ]
  },
  {
   "cell_type": "code",
   "execution_count": 35,
   "metadata": {},
   "outputs": [],
   "source": [
    "from IPython.display import display, Markdown\n",
    "mV = 1e-3\n",
    "kOhm = 1e3\n"
   ]
  },
  {
   "cell_type": "code",
   "execution_count": 39,
   "metadata": {},
   "outputs": [
    {
     "data": {
      "text/markdown": [
       "Impedance of the guitar signal $(Z_guitar)$: 201.0 kΩ"
      ],
      "text/plain": [
       "<IPython.core.display.Markdown object>"
      ]
     },
     "metadata": {},
     "output_type": "display_data"
    }
   ],
   "source": [
    "V_A = 140.97 * mV\n",
    "V_B = 94.13 * mV\n",
    "R_ref = 100 * kOhm\n",
    "\n",
    "Z_guitar = R_ref * V_B / (V_A - V_B)\n",
    "\n",
    "display(Markdown(f\"Impedance of the guitar signal $(Z_guitar)$: {Z_guitar / kOhm:.1f} kΩ\"))\n"
   ]
  },
  {
   "cell_type": "markdown",
   "metadata": {},
   "source": [
    "## Conclusion\n",
    "\n",
    "I'm guessing my measurements are amiss. I plan to repeat this experiment at some later date. The next step for me is to add an op-amp anyway."
   ]
  }
 ],
 "metadata": {
  "kernelspec": {
   "display_name": "Python 3",
   "language": "python",
   "name": "python3"
  },
  "language_info": {
   "codemirror_mode": {
    "name": "ipython",
    "version": 3
   },
   "file_extension": ".py",
   "mimetype": "text/x-python",
   "name": "python",
   "nbconvert_exporter": "python",
   "pygments_lexer": "ipython3",
   "version": "3.10.13"
  }
 },
 "nbformat": 4,
 "nbformat_minor": 2
}
